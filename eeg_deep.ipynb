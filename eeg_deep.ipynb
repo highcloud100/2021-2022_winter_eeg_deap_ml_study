{
  "nbformat": 4,
  "nbformat_minor": 0,
  "metadata": {
    "colab": {
      "name": "eeg_deep.ipynb",
      "provenance": [],
      "collapsed_sections": [],
      "authorship_tag": "ABX9TyOI5E0IIpCCorYJjas0Z+gJ"
    },
    "kernelspec": {
      "name": "python3",
      "display_name": "Python 3"
    },
    "language_info": {
      "name": "python"
    }
  },
  "cells": [
    {
      "cell_type": "code",
      "execution_count": null,
      "metadata": {
        "id": "hxu7bV6NNb_g"
      },
      "outputs": [],
      "source": [
        "import pandas as pd\n",
        "import numpy as np"
      ]
    },
    {
      "cell_type": "code",
      "source": [
        "data = pd.read_csv(\"band.csv\")"
      ],
      "metadata": {
        "id": "C-rpw89iN8Cq"
      },
      "execution_count": null,
      "outputs": []
    },
    {
      "cell_type": "code",
      "source": [
        "data.shape"
      ],
      "metadata": {
        "colab": {
          "base_uri": "https://localhost:8080/"
        },
        "id": "UYDZNeghOBXN",
        "outputId": "5319d581-6a7e-405a-d8f5-bd7c10564a3e"
      },
      "execution_count": null,
      "outputs": [
        {
          "output_type": "execute_result",
          "data": {
            "text/plain": [
              "(1280, 129)"
            ]
          },
          "metadata": {},
          "execution_count": 3
        }
      ]
    },
    {
      "cell_type": "code",
      "source": [
        "data.head()"
      ],
      "metadata": {
        "colab": {
          "base_uri": "https://localhost:8080/",
          "height": 316
        },
        "id": "GyvbmE9MOdt-",
        "outputId": "822b64ff-ff19-4a21-ee23-ead493729542"
      },
      "execution_count": null,
      "outputs": [
        {
          "output_type": "execute_result",
          "data": {
            "text/html": [
              "\n",
              "  <div id=\"df-01e32796-a022-4d8b-83e5-bffdaffe6584\">\n",
              "    <div class=\"colab-df-container\">\n",
              "      <div>\n",
              "<style scoped>\n",
              "    .dataframe tbody tr th:only-of-type {\n",
              "        vertical-align: middle;\n",
              "    }\n",
              "\n",
              "    .dataframe tbody tr th {\n",
              "        vertical-align: top;\n",
              "    }\n",
              "\n",
              "    .dataframe thead th {\n",
              "        text-align: right;\n",
              "    }\n",
              "</style>\n",
              "<table border=\"1\" class=\"dataframe\">\n",
              "  <thead>\n",
              "    <tr style=\"text-align: right;\">\n",
              "      <th></th>\n",
              "      <th>Unnamed: 0</th>\n",
              "      <th>0</th>\n",
              "      <th>1</th>\n",
              "      <th>2</th>\n",
              "      <th>3</th>\n",
              "      <th>4</th>\n",
              "      <th>5</th>\n",
              "      <th>6</th>\n",
              "      <th>7</th>\n",
              "      <th>8</th>\n",
              "      <th>...</th>\n",
              "      <th>118</th>\n",
              "      <th>119</th>\n",
              "      <th>120</th>\n",
              "      <th>121</th>\n",
              "      <th>122</th>\n",
              "      <th>123</th>\n",
              "      <th>124</th>\n",
              "      <th>125</th>\n",
              "      <th>126</th>\n",
              "      <th>127</th>\n",
              "    </tr>\n",
              "  </thead>\n",
              "  <tbody>\n",
              "    <tr>\n",
              "      <th>0</th>\n",
              "      <td>0</td>\n",
              "      <td>3.966387</td>\n",
              "      <td>3.362791</td>\n",
              "      <td>5.815234</td>\n",
              "      <td>1.216603</td>\n",
              "      <td>5.102688</td>\n",
              "      <td>3.944452</td>\n",
              "      <td>6.646149</td>\n",
              "      <td>1.261336</td>\n",
              "      <td>5.853005</td>\n",
              "      <td>...</td>\n",
              "      <td>4.504961</td>\n",
              "      <td>1.242910</td>\n",
              "      <td>6.766592</td>\n",
              "      <td>6.189954</td>\n",
              "      <td>7.055265</td>\n",
              "      <td>1.177492</td>\n",
              "      <td>5.434120</td>\n",
              "      <td>5.369596</td>\n",
              "      <td>6.286556</td>\n",
              "      <td>0.987916</td>\n",
              "    </tr>\n",
              "    <tr>\n",
              "      <th>1</th>\n",
              "      <td>1</td>\n",
              "      <td>5.171664</td>\n",
              "      <td>4.159797</td>\n",
              "      <td>6.395374</td>\n",
              "      <td>1.450174</td>\n",
              "      <td>7.009709</td>\n",
              "      <td>4.826470</td>\n",
              "      <td>7.266016</td>\n",
              "      <td>1.318514</td>\n",
              "      <td>7.645094</td>\n",
              "      <td>...</td>\n",
              "      <td>4.872352</td>\n",
              "      <td>1.462509</td>\n",
              "      <td>10.031310</td>\n",
              "      <td>7.715087</td>\n",
              "      <td>7.725304</td>\n",
              "      <td>1.253575</td>\n",
              "      <td>7.958460</td>\n",
              "      <td>6.850178</td>\n",
              "      <td>6.795912</td>\n",
              "      <td>1.152470</td>\n",
              "    </tr>\n",
              "    <tr>\n",
              "      <th>2</th>\n",
              "      <td>2</td>\n",
              "      <td>4.839268</td>\n",
              "      <td>4.294426</td>\n",
              "      <td>6.721424</td>\n",
              "      <td>1.541999</td>\n",
              "      <td>6.321618</td>\n",
              "      <td>5.004187</td>\n",
              "      <td>8.149888</td>\n",
              "      <td>1.660937</td>\n",
              "      <td>7.312348</td>\n",
              "      <td>...</td>\n",
              "      <td>5.661568</td>\n",
              "      <td>1.651851</td>\n",
              "      <td>9.238961</td>\n",
              "      <td>9.179372</td>\n",
              "      <td>9.283133</td>\n",
              "      <td>1.479029</td>\n",
              "      <td>6.864887</td>\n",
              "      <td>8.209320</td>\n",
              "      <td>8.429777</td>\n",
              "      <td>1.410791</td>\n",
              "    </tr>\n",
              "    <tr>\n",
              "      <th>3</th>\n",
              "      <td>3</td>\n",
              "      <td>4.442888</td>\n",
              "      <td>3.519818</td>\n",
              "      <td>5.380133</td>\n",
              "      <td>1.280744</td>\n",
              "      <td>6.709155</td>\n",
              "      <td>4.250171</td>\n",
              "      <td>6.090829</td>\n",
              "      <td>1.208452</td>\n",
              "      <td>7.652379</td>\n",
              "      <td>...</td>\n",
              "      <td>3.702323</td>\n",
              "      <td>0.804002</td>\n",
              "      <td>8.802466</td>\n",
              "      <td>6.922430</td>\n",
              "      <td>6.950315</td>\n",
              "      <td>1.132223</td>\n",
              "      <td>6.850906</td>\n",
              "      <td>6.541218</td>\n",
              "      <td>6.753938</td>\n",
              "      <td>1.026295</td>\n",
              "    </tr>\n",
              "    <tr>\n",
              "      <th>4</th>\n",
              "      <td>4</td>\n",
              "      <td>2.698928</td>\n",
              "      <td>2.770151</td>\n",
              "      <td>4.911636</td>\n",
              "      <td>1.076200</td>\n",
              "      <td>3.034321</td>\n",
              "      <td>2.933423</td>\n",
              "      <td>5.472712</td>\n",
              "      <td>1.120326</td>\n",
              "      <td>3.150251</td>\n",
              "      <td>...</td>\n",
              "      <td>4.464917</td>\n",
              "      <td>1.514359</td>\n",
              "      <td>3.678479</td>\n",
              "      <td>5.225959</td>\n",
              "      <td>6.270482</td>\n",
              "      <td>1.036078</td>\n",
              "      <td>3.681268</td>\n",
              "      <td>5.195625</td>\n",
              "      <td>6.161676</td>\n",
              "      <td>0.946582</td>\n",
              "    </tr>\n",
              "  </tbody>\n",
              "</table>\n",
              "<p>5 rows × 129 columns</p>\n",
              "</div>\n",
              "      <button class=\"colab-df-convert\" onclick=\"convertToInteractive('df-01e32796-a022-4d8b-83e5-bffdaffe6584')\"\n",
              "              title=\"Convert this dataframe to an interactive table.\"\n",
              "              style=\"display:none;\">\n",
              "        \n",
              "  <svg xmlns=\"http://www.w3.org/2000/svg\" height=\"24px\"viewBox=\"0 0 24 24\"\n",
              "       width=\"24px\">\n",
              "    <path d=\"M0 0h24v24H0V0z\" fill=\"none\"/>\n",
              "    <path d=\"M18.56 5.44l.94 2.06.94-2.06 2.06-.94-2.06-.94-.94-2.06-.94 2.06-2.06.94zm-11 1L8.5 8.5l.94-2.06 2.06-.94-2.06-.94L8.5 2.5l-.94 2.06-2.06.94zm10 10l.94 2.06.94-2.06 2.06-.94-2.06-.94-.94-2.06-.94 2.06-2.06.94z\"/><path d=\"M17.41 7.96l-1.37-1.37c-.4-.4-.92-.59-1.43-.59-.52 0-1.04.2-1.43.59L10.3 9.45l-7.72 7.72c-.78.78-.78 2.05 0 2.83L4 21.41c.39.39.9.59 1.41.59.51 0 1.02-.2 1.41-.59l7.78-7.78 2.81-2.81c.8-.78.8-2.07 0-2.86zM5.41 20L4 18.59l7.72-7.72 1.47 1.35L5.41 20z\"/>\n",
              "  </svg>\n",
              "      </button>\n",
              "      \n",
              "  <style>\n",
              "    .colab-df-container {\n",
              "      display:flex;\n",
              "      flex-wrap:wrap;\n",
              "      gap: 12px;\n",
              "    }\n",
              "\n",
              "    .colab-df-convert {\n",
              "      background-color: #E8F0FE;\n",
              "      border: none;\n",
              "      border-radius: 50%;\n",
              "      cursor: pointer;\n",
              "      display: none;\n",
              "      fill: #1967D2;\n",
              "      height: 32px;\n",
              "      padding: 0 0 0 0;\n",
              "      width: 32px;\n",
              "    }\n",
              "\n",
              "    .colab-df-convert:hover {\n",
              "      background-color: #E2EBFA;\n",
              "      box-shadow: 0px 1px 2px rgba(60, 64, 67, 0.3), 0px 1px 3px 1px rgba(60, 64, 67, 0.15);\n",
              "      fill: #174EA6;\n",
              "    }\n",
              "\n",
              "    [theme=dark] .colab-df-convert {\n",
              "      background-color: #3B4455;\n",
              "      fill: #D2E3FC;\n",
              "    }\n",
              "\n",
              "    [theme=dark] .colab-df-convert:hover {\n",
              "      background-color: #434B5C;\n",
              "      box-shadow: 0px 1px 3px 1px rgba(0, 0, 0, 0.15);\n",
              "      filter: drop-shadow(0px 1px 2px rgba(0, 0, 0, 0.3));\n",
              "      fill: #FFFFFF;\n",
              "    }\n",
              "  </style>\n",
              "\n",
              "      <script>\n",
              "        const buttonEl =\n",
              "          document.querySelector('#df-01e32796-a022-4d8b-83e5-bffdaffe6584 button.colab-df-convert');\n",
              "        buttonEl.style.display =\n",
              "          google.colab.kernel.accessAllowed ? 'block' : 'none';\n",
              "\n",
              "        async function convertToInteractive(key) {\n",
              "          const element = document.querySelector('#df-01e32796-a022-4d8b-83e5-bffdaffe6584');\n",
              "          const dataTable =\n",
              "            await google.colab.kernel.invokeFunction('convertToInteractive',\n",
              "                                                     [key], {});\n",
              "          if (!dataTable) return;\n",
              "\n",
              "          const docLinkHtml = 'Like what you see? Visit the ' +\n",
              "            '<a target=\"_blank\" href=https://colab.research.google.com/notebooks/data_table.ipynb>data table notebook</a>'\n",
              "            + ' to learn more about interactive tables.';\n",
              "          element.innerHTML = '';\n",
              "          dataTable['output_type'] = 'display_data';\n",
              "          await google.colab.output.renderOutput(dataTable, element);\n",
              "          const docLink = document.createElement('div');\n",
              "          docLink.innerHTML = docLinkHtml;\n",
              "          element.appendChild(docLink);\n",
              "        }\n",
              "      </script>\n",
              "    </div>\n",
              "  </div>\n",
              "  "
            ],
            "text/plain": [
              "   Unnamed: 0         0         1         2         3         4         5  \\\n",
              "0           0  3.966387  3.362791  5.815234  1.216603  5.102688  3.944452   \n",
              "1           1  5.171664  4.159797  6.395374  1.450174  7.009709  4.826470   \n",
              "2           2  4.839268  4.294426  6.721424  1.541999  6.321618  5.004187   \n",
              "3           3  4.442888  3.519818  5.380133  1.280744  6.709155  4.250171   \n",
              "4           4  2.698928  2.770151  4.911636  1.076200  3.034321  2.933423   \n",
              "\n",
              "          6         7         8  ...       118       119        120       121  \\\n",
              "0  6.646149  1.261336  5.853005  ...  4.504961  1.242910   6.766592  6.189954   \n",
              "1  7.266016  1.318514  7.645094  ...  4.872352  1.462509  10.031310  7.715087   \n",
              "2  8.149888  1.660937  7.312348  ...  5.661568  1.651851   9.238961  9.179372   \n",
              "3  6.090829  1.208452  7.652379  ...  3.702323  0.804002   8.802466  6.922430   \n",
              "4  5.472712  1.120326  3.150251  ...  4.464917  1.514359   3.678479  5.225959   \n",
              "\n",
              "        122       123       124       125       126       127  \n",
              "0  7.055265  1.177492  5.434120  5.369596  6.286556  0.987916  \n",
              "1  7.725304  1.253575  7.958460  6.850178  6.795912  1.152470  \n",
              "2  9.283133  1.479029  6.864887  8.209320  8.429777  1.410791  \n",
              "3  6.950315  1.132223  6.850906  6.541218  6.753938  1.026295  \n",
              "4  6.270482  1.036078  3.681268  5.195625  6.161676  0.946582  \n",
              "\n",
              "[5 rows x 129 columns]"
            ]
          },
          "metadata": {},
          "execution_count": 4
        }
      ]
    },
    {
      "cell_type": "code",
      "source": [
        "data.columns"
      ],
      "metadata": {
        "colab": {
          "base_uri": "https://localhost:8080/"
        },
        "id": "PuCSxIZoOekO",
        "outputId": "0d9b1a81-add9-4681-de90-8dc4657fbdbc"
      },
      "execution_count": null,
      "outputs": [
        {
          "output_type": "execute_result",
          "data": {
            "text/plain": [
              "Index(['Unnamed: 0', '0', '1', '2', '3', '4', '5', '6', '7', '8',\n",
              "       ...\n",
              "       '118', '119', '120', '121', '122', '123', '124', '125', '126', '127'],\n",
              "      dtype='object', length=129)"
            ]
          },
          "metadata": {},
          "execution_count": 5
        }
      ]
    },
    {
      "cell_type": "code",
      "source": [
        "data = data.drop(labels ='Unnamed: 0', axis=1)"
      ],
      "metadata": {
        "id": "5r25fINWOCi7"
      },
      "execution_count": null,
      "outputs": []
    },
    {
      "cell_type": "code",
      "source": [
        "data.shape"
      ],
      "metadata": {
        "colab": {
          "base_uri": "https://localhost:8080/"
        },
        "id": "5DOiAeauO6EG",
        "outputId": "d17dbfd5-6eba-4c2c-c565-fce0cde75f69"
      },
      "execution_count": null,
      "outputs": [
        {
          "output_type": "execute_result",
          "data": {
            "text/plain": [
              "(1280, 128)"
            ]
          },
          "metadata": {},
          "execution_count": 7
        }
      ]
    },
    {
      "cell_type": "code",
      "source": [
        "data = np.array(data).reshape(1280,32,-1)"
      ],
      "metadata": {
        "id": "5h8JJf3sJd9B"
      },
      "execution_count": null,
      "outputs": []
    },
    {
      "cell_type": "code",
      "source": [
        "gamma = data[:,:,3]"
      ],
      "metadata": {
        "id": "n44CkjXiKF9G"
      },
      "execution_count": null,
      "outputs": []
    },
    {
      "cell_type": "code",
      "source": [
        "gamma.shape"
      ],
      "metadata": {
        "colab": {
          "base_uri": "https://localhost:8080/"
        },
        "id": "Qmp59UmmKJn9",
        "outputId": "e36f098b-4c7d-457d-ac0d-d689ba36f438"
      },
      "execution_count": null,
      "outputs": [
        {
          "output_type": "execute_result",
          "data": {
            "text/plain": [
              "(1280, 32)"
            ]
          },
          "metadata": {},
          "execution_count": 10
        }
      ]
    },
    {
      "cell_type": "code",
      "source": [
        "VAL = pd.read_csv(\"VAL.csv\")"
      ],
      "metadata": {
        "id": "aGnmp0LsO_IK"
      },
      "execution_count": null,
      "outputs": []
    },
    {
      "cell_type": "code",
      "source": [
        "VAL.shape"
      ],
      "metadata": {
        "colab": {
          "base_uri": "https://localhost:8080/"
        },
        "id": "VkDyoIX4PGJ7",
        "outputId": "44b9ea74-f229-4add-d98e-ae742d85d47d"
      },
      "execution_count": null,
      "outputs": [
        {
          "output_type": "execute_result",
          "data": {
            "text/plain": [
              "(1280, 1)"
            ]
          },
          "metadata": {},
          "execution_count": 12
        }
      ]
    },
    {
      "cell_type": "code",
      "source": [
        "from sklearn.model_selection import train_test_split"
      ],
      "metadata": {
        "id": "PW4iTFgWQS9l"
      },
      "execution_count": null,
      "outputs": []
    },
    {
      "cell_type": "code",
      "source": [
        "X_train, X_test, y_train, y_test = train_test_split(gamma, VAL)"
      ],
      "metadata": {
        "id": "NoSN9m2tKVdy"
      },
      "execution_count": null,
      "outputs": []
    },
    {
      "cell_type": "code",
      "source": [
        "X_train, X_test, y_train, y_test = train_test_split(data, VAL)"
      ],
      "metadata": {
        "id": "hm3WHmGZQPMP"
      },
      "execution_count": null,
      "outputs": []
    },
    {
      "cell_type": "code",
      "source": [
        "from tensorflow import keras\n",
        "from tensorflow.keras import layers"
      ],
      "metadata": {
        "id": "ABNrm1r8PIeh"
      },
      "execution_count": null,
      "outputs": []
    },
    {
      "cell_type": "code",
      "source": [
        "model = keras.Sequential([\n",
        "      layers.BatchNormalization(),\n",
        "      layers.Dense(1024, activation='relu', input_shape=[32]),\n",
        "      layers.Dropout(0.3),\n",
        "      layers.BatchNormalization(),\n",
        "      layers.Dense(1024, activation='relu'),\n",
        "      layers.Dropout(0.3),\n",
        "      layers.BatchNormalization(),\n",
        "      layers.Dense(1024, activation='relu'),\n",
        "      layers.Dropout(0.3),\n",
        "      layers.BatchNormalization(),\n",
        "       layers.Dense(1024, activation='relu'),\n",
        "       layers.Dropout(0.3),\n",
        "      layers.BatchNormalization(),\n",
        "        layers.Dense(1024, activation='relu'),\n",
        "        layers.Dropout(0.3),\n",
        "      layers.BatchNormalization(),\n",
        "         layers.Dense(1024, activation='relu'),\n",
        "         layers.Dropout(0.3),\n",
        "      layers.BatchNormalization(),\n",
        "      layers.Dense(512, activation='relu'),\n",
        "      layers.Dropout(0.3),\n",
        "      layers.BatchNormalization(),\n",
        "      layers.Dense(512, activation='relu'),\n",
        "      layers.Dropout(0.3),\n",
        "      layers.BatchNormalization(),\n",
        "      layers.Dense(10,activation='softmax'),\n",
        "])"
      ],
      "metadata": {
        "id": "Dtc3EWPsPjqg"
      },
      "execution_count": null,
      "outputs": []
    },
    {
      "cell_type": "code",
      "source": [
        "model.compile(\n",
        "    optimizer='adam',\n",
        "    loss = 'sparse_categorical_crossentropy',\n",
        "    metrics=[\"accuracy\"]\n",
        ")"
      ],
      "metadata": {
        "id": "QjCY9Tp9P9_A"
      },
      "execution_count": null,
      "outputs": []
    },
    {
      "cell_type": "code",
      "source": [
        "history = model.fit(\n",
        "  X_train, y_train,\n",
        "    validation_data = (X_test, y_test),\n",
        "    batch_size = 256,\n",
        "    epochs=30,\n",
        ")"
      ],
      "metadata": {
        "colab": {
          "base_uri": "https://localhost:8080/"
        },
        "id": "TFQ9edYeQEYp",
        "outputId": "240fa5a7-3aad-4f2a-e05b-ecee013d1374"
      },
      "execution_count": null,
      "outputs": [
        {
          "output_type": "stream",
          "name": "stdout",
          "text": [
            "Epoch 1/30\n",
            "4/4 [==============================] - 5s 403ms/step - loss: 3.0348 - accuracy: 0.1021 - val_loss: 2.3241 - val_accuracy: 0.1625\n",
            "Epoch 2/30\n",
            "4/4 [==============================] - 1s 254ms/step - loss: 2.8798 - accuracy: 0.1115 - val_loss: 2.3764 - val_accuracy: 0.1750\n",
            "Epoch 3/30\n",
            "4/4 [==============================] - 1s 266ms/step - loss: 2.8267 - accuracy: 0.1365 - val_loss: 2.4676 - val_accuracy: 0.1531\n",
            "Epoch 4/30\n",
            "4/4 [==============================] - 1s 273ms/step - loss: 2.7691 - accuracy: 0.1104 - val_loss: 2.4564 - val_accuracy: 0.1437\n",
            "Epoch 5/30\n",
            "4/4 [==============================] - 1s 361ms/step - loss: 2.7053 - accuracy: 0.1302 - val_loss: 2.4171 - val_accuracy: 0.1531\n",
            "Epoch 6/30\n",
            "4/4 [==============================] - 1s 280ms/step - loss: 2.6941 - accuracy: 0.1417 - val_loss: 2.5374 - val_accuracy: 0.1813\n",
            "Epoch 7/30\n",
            "4/4 [==============================] - 1s 284ms/step - loss: 2.6227 - accuracy: 0.1219 - val_loss: 2.6640 - val_accuracy: 0.1906\n",
            "Epoch 8/30\n",
            "4/4 [==============================] - 1s 255ms/step - loss: 2.5518 - accuracy: 0.1500 - val_loss: 2.3542 - val_accuracy: 0.1813\n",
            "Epoch 9/30\n",
            "4/4 [==============================] - 1s 257ms/step - loss: 2.5100 - accuracy: 0.1625 - val_loss: 2.4783 - val_accuracy: 0.1875\n",
            "Epoch 10/30\n",
            "4/4 [==============================] - 1s 284ms/step - loss: 2.4692 - accuracy: 0.1490 - val_loss: 2.7076 - val_accuracy: 0.1906\n",
            "Epoch 11/30\n",
            "4/4 [==============================] - 1s 254ms/step - loss: 2.4692 - accuracy: 0.1479 - val_loss: 2.6980 - val_accuracy: 0.2000\n",
            "Epoch 12/30\n",
            "4/4 [==============================] - 1s 259ms/step - loss: 2.4727 - accuracy: 0.1510 - val_loss: 2.9209 - val_accuracy: 0.1906\n",
            "Epoch 13/30\n",
            "4/4 [==============================] - 1s 288ms/step - loss: 2.4129 - accuracy: 0.1646 - val_loss: 3.0360 - val_accuracy: 0.1688\n",
            "Epoch 14/30\n",
            "4/4 [==============================] - 1s 258ms/step - loss: 2.3564 - accuracy: 0.1677 - val_loss: 2.6914 - val_accuracy: 0.1781\n",
            "Epoch 15/30\n",
            "4/4 [==============================] - 1s 258ms/step - loss: 2.3428 - accuracy: 0.1813 - val_loss: 2.6650 - val_accuracy: 0.1781\n",
            "Epoch 16/30\n",
            "4/4 [==============================] - 1s 263ms/step - loss: 2.3457 - accuracy: 0.1781 - val_loss: 2.7038 - val_accuracy: 0.1781\n",
            "Epoch 17/30\n",
            "4/4 [==============================] - 1s 255ms/step - loss: 2.3565 - accuracy: 0.1688 - val_loss: 2.6428 - val_accuracy: 0.2094\n",
            "Epoch 18/30\n",
            "4/4 [==============================] - 1s 250ms/step - loss: 2.3307 - accuracy: 0.1760 - val_loss: 2.6078 - val_accuracy: 0.2000\n",
            "Epoch 19/30\n",
            "4/4 [==============================] - 1s 251ms/step - loss: 2.2855 - accuracy: 0.1813 - val_loss: 2.5497 - val_accuracy: 0.1937\n",
            "Epoch 20/30\n",
            "4/4 [==============================] - 1s 254ms/step - loss: 2.2665 - accuracy: 0.1729 - val_loss: 2.5143 - val_accuracy: 0.1906\n",
            "Epoch 21/30\n",
            "4/4 [==============================] - 1s 258ms/step - loss: 2.2735 - accuracy: 0.2052 - val_loss: 2.4766 - val_accuracy: 0.1906\n",
            "Epoch 22/30\n",
            "4/4 [==============================] - 1s 251ms/step - loss: 2.2009 - accuracy: 0.2156 - val_loss: 2.4395 - val_accuracy: 0.1906\n",
            "Epoch 23/30\n",
            "4/4 [==============================] - 1s 262ms/step - loss: 2.2187 - accuracy: 0.2219 - val_loss: 2.4551 - val_accuracy: 0.2031\n",
            "Epoch 24/30\n",
            "4/4 [==============================] - 1s 256ms/step - loss: 2.2093 - accuracy: 0.1906 - val_loss: 2.3024 - val_accuracy: 0.1781\n",
            "Epoch 25/30\n",
            "4/4 [==============================] - 1s 256ms/step - loss: 2.2348 - accuracy: 0.1979 - val_loss: 2.3090 - val_accuracy: 0.1906\n",
            "Epoch 26/30\n",
            "4/4 [==============================] - 1s 282ms/step - loss: 2.1630 - accuracy: 0.2094 - val_loss: 2.3600 - val_accuracy: 0.1875\n",
            "Epoch 27/30\n",
            "4/4 [==============================] - 1s 283ms/step - loss: 2.1919 - accuracy: 0.2125 - val_loss: 2.3151 - val_accuracy: 0.1906\n",
            "Epoch 28/30\n",
            "4/4 [==============================] - 1s 284ms/step - loss: 2.1736 - accuracy: 0.2198 - val_loss: 2.3428 - val_accuracy: 0.1844\n",
            "Epoch 29/30\n",
            "4/4 [==============================] - 1s 258ms/step - loss: 2.1815 - accuracy: 0.2042 - val_loss: 2.3164 - val_accuracy: 0.2000\n",
            "Epoch 30/30\n",
            "4/4 [==============================] - 1s 258ms/step - loss: 2.1476 - accuracy: 0.2052 - val_loss: 2.2634 - val_accuracy: 0.1937\n"
          ]
        }
      ]
    },
    {
      "cell_type": "code",
      "source": [
        "model.summary()"
      ],
      "metadata": {
        "id": "TMncq3VzQ51R",
        "colab": {
          "base_uri": "https://localhost:8080/"
        },
        "outputId": "b863a8eb-f9c6-4520-81f3-c7446d56ded4"
      },
      "execution_count": null,
      "outputs": [
        {
          "output_type": "stream",
          "name": "stdout",
          "text": [
            "Model: \"sequential\"\n",
            "_________________________________________________________________\n",
            " Layer (type)                Output Shape              Param #   \n",
            "=================================================================\n",
            " batch_normalization (BatchN  (None, 32)               128       \n",
            " ormalization)                                                   \n",
            "                                                                 \n",
            " dense (Dense)               (None, 1024)              33792     \n",
            "                                                                 \n",
            " dropout (Dropout)           (None, 1024)              0         \n",
            "                                                                 \n",
            " batch_normalization_1 (Batc  (None, 1024)             4096      \n",
            " hNormalization)                                                 \n",
            "                                                                 \n",
            " dense_1 (Dense)             (None, 1024)              1049600   \n",
            "                                                                 \n",
            " dropout_1 (Dropout)         (None, 1024)              0         \n",
            "                                                                 \n",
            " batch_normalization_2 (Batc  (None, 1024)             4096      \n",
            " hNormalization)                                                 \n",
            "                                                                 \n",
            " dense_2 (Dense)             (None, 1024)              1049600   \n",
            "                                                                 \n",
            " dropout_2 (Dropout)         (None, 1024)              0         \n",
            "                                                                 \n",
            " batch_normalization_3 (Batc  (None, 1024)             4096      \n",
            " hNormalization)                                                 \n",
            "                                                                 \n",
            " dense_3 (Dense)             (None, 1024)              1049600   \n",
            "                                                                 \n",
            " dropout_3 (Dropout)         (None, 1024)              0         \n",
            "                                                                 \n",
            " batch_normalization_4 (Batc  (None, 1024)             4096      \n",
            " hNormalization)                                                 \n",
            "                                                                 \n",
            " dense_4 (Dense)             (None, 1024)              1049600   \n",
            "                                                                 \n",
            " dropout_4 (Dropout)         (None, 1024)              0         \n",
            "                                                                 \n",
            " batch_normalization_5 (Batc  (None, 1024)             4096      \n",
            " hNormalization)                                                 \n",
            "                                                                 \n",
            " dense_5 (Dense)             (None, 1024)              1049600   \n",
            "                                                                 \n",
            " dropout_5 (Dropout)         (None, 1024)              0         \n",
            "                                                                 \n",
            " batch_normalization_6 (Batc  (None, 1024)             4096      \n",
            " hNormalization)                                                 \n",
            "                                                                 \n",
            " dense_6 (Dense)             (None, 512)               524800    \n",
            "                                                                 \n",
            " dropout_6 (Dropout)         (None, 512)               0         \n",
            "                                                                 \n",
            " batch_normalization_7 (Batc  (None, 512)              2048      \n",
            " hNormalization)                                                 \n",
            "                                                                 \n",
            " dense_7 (Dense)             (None, 512)               262656    \n",
            "                                                                 \n",
            " dropout_7 (Dropout)         (None, 512)               0         \n",
            "                                                                 \n",
            " batch_normalization_8 (Batc  (None, 512)              2048      \n",
            " hNormalization)                                                 \n",
            "                                                                 \n",
            " dense_8 (Dense)             (None, 10)                5130      \n",
            "                                                                 \n",
            "=================================================================\n",
            "Total params: 6,103,178\n",
            "Trainable params: 6,088,778\n",
            "Non-trainable params: 14,400\n",
            "_________________________________________________________________\n"
          ]
        }
      ]
    },
    {
      "cell_type": "code",
      "source": [
        "for i in range(100):\n",
        "  print(np.argmax(model.predict(X_test)[i]), end=' ')\n",
        "\n",
        "#np.argmax(model.predict(X_test)[0])"
      ],
      "metadata": {
        "colab": {
          "base_uri": "https://localhost:8080/"
        },
        "id": "VH5IKHRXMwge",
        "outputId": "5b7986d2-e162-44a7-e6c8-e702607be20d"
      },
      "execution_count": null,
      "outputs": [
        {
          "output_type": "stream",
          "name": "stdout",
          "text": [
            "7 7 7 5 5 7 7 7 7 7 7 7 7 5 7 7 7 7 5 7 7 7 7 7 7 7 7 7 7 7 7 "
          ]
        }
      ]
    },
    {
      "cell_type": "code",
      "source": [
        "y_test.head(100)"
      ],
      "metadata": {
        "colab": {
          "base_uri": "https://localhost:8080/",
          "height": 424
        },
        "id": "PRq-YCfvNHeL",
        "outputId": "4286c2f2-b5f4-46b5-f8a5-1855d4a79b4a"
      },
      "execution_count": null,
      "outputs": [
        {
          "output_type": "execute_result",
          "data": {
            "text/html": [
              "\n",
              "  <div id=\"df-9591aa05-7086-4abb-8645-9d4d15403c6e\">\n",
              "    <div class=\"colab-df-container\">\n",
              "      <div>\n",
              "<style scoped>\n",
              "    .dataframe tbody tr th:only-of-type {\n",
              "        vertical-align: middle;\n",
              "    }\n",
              "\n",
              "    .dataframe tbody tr th {\n",
              "        vertical-align: top;\n",
              "    }\n",
              "\n",
              "    .dataframe thead th {\n",
              "        text-align: right;\n",
              "    }\n",
              "</style>\n",
              "<table border=\"1\" class=\"dataframe\">\n",
              "  <thead>\n",
              "    <tr style=\"text-align: right;\">\n",
              "      <th></th>\n",
              "      <th>0</th>\n",
              "    </tr>\n",
              "  </thead>\n",
              "  <tbody>\n",
              "    <tr>\n",
              "      <th>986</th>\n",
              "      <td>5</td>\n",
              "    </tr>\n",
              "    <tr>\n",
              "      <th>860</th>\n",
              "      <td>3</td>\n",
              "    </tr>\n",
              "    <tr>\n",
              "      <th>714</th>\n",
              "      <td>5</td>\n",
              "    </tr>\n",
              "    <tr>\n",
              "      <th>834</th>\n",
              "      <td>5</td>\n",
              "    </tr>\n",
              "    <tr>\n",
              "      <th>904</th>\n",
              "      <td>5</td>\n",
              "    </tr>\n",
              "    <tr>\n",
              "      <th>...</th>\n",
              "      <td>...</td>\n",
              "    </tr>\n",
              "    <tr>\n",
              "      <th>1124</th>\n",
              "      <td>6</td>\n",
              "    </tr>\n",
              "    <tr>\n",
              "      <th>176</th>\n",
              "      <td>7</td>\n",
              "    </tr>\n",
              "    <tr>\n",
              "      <th>1182</th>\n",
              "      <td>3</td>\n",
              "    </tr>\n",
              "    <tr>\n",
              "      <th>1018</th>\n",
              "      <td>8</td>\n",
              "    </tr>\n",
              "    <tr>\n",
              "      <th>173</th>\n",
              "      <td>7</td>\n",
              "    </tr>\n",
              "  </tbody>\n",
              "</table>\n",
              "<p>100 rows × 1 columns</p>\n",
              "</div>\n",
              "      <button class=\"colab-df-convert\" onclick=\"convertToInteractive('df-9591aa05-7086-4abb-8645-9d4d15403c6e')\"\n",
              "              title=\"Convert this dataframe to an interactive table.\"\n",
              "              style=\"display:none;\">\n",
              "        \n",
              "  <svg xmlns=\"http://www.w3.org/2000/svg\" height=\"24px\"viewBox=\"0 0 24 24\"\n",
              "       width=\"24px\">\n",
              "    <path d=\"M0 0h24v24H0V0z\" fill=\"none\"/>\n",
              "    <path d=\"M18.56 5.44l.94 2.06.94-2.06 2.06-.94-2.06-.94-.94-2.06-.94 2.06-2.06.94zm-11 1L8.5 8.5l.94-2.06 2.06-.94-2.06-.94L8.5 2.5l-.94 2.06-2.06.94zm10 10l.94 2.06.94-2.06 2.06-.94-2.06-.94-.94-2.06-.94 2.06-2.06.94z\"/><path d=\"M17.41 7.96l-1.37-1.37c-.4-.4-.92-.59-1.43-.59-.52 0-1.04.2-1.43.59L10.3 9.45l-7.72 7.72c-.78.78-.78 2.05 0 2.83L4 21.41c.39.39.9.59 1.41.59.51 0 1.02-.2 1.41-.59l7.78-7.78 2.81-2.81c.8-.78.8-2.07 0-2.86zM5.41 20L4 18.59l7.72-7.72 1.47 1.35L5.41 20z\"/>\n",
              "  </svg>\n",
              "      </button>\n",
              "      \n",
              "  <style>\n",
              "    .colab-df-container {\n",
              "      display:flex;\n",
              "      flex-wrap:wrap;\n",
              "      gap: 12px;\n",
              "    }\n",
              "\n",
              "    .colab-df-convert {\n",
              "      background-color: #E8F0FE;\n",
              "      border: none;\n",
              "      border-radius: 50%;\n",
              "      cursor: pointer;\n",
              "      display: none;\n",
              "      fill: #1967D2;\n",
              "      height: 32px;\n",
              "      padding: 0 0 0 0;\n",
              "      width: 32px;\n",
              "    }\n",
              "\n",
              "    .colab-df-convert:hover {\n",
              "      background-color: #E2EBFA;\n",
              "      box-shadow: 0px 1px 2px rgba(60, 64, 67, 0.3), 0px 1px 3px 1px rgba(60, 64, 67, 0.15);\n",
              "      fill: #174EA6;\n",
              "    }\n",
              "\n",
              "    [theme=dark] .colab-df-convert {\n",
              "      background-color: #3B4455;\n",
              "      fill: #D2E3FC;\n",
              "    }\n",
              "\n",
              "    [theme=dark] .colab-df-convert:hover {\n",
              "      background-color: #434B5C;\n",
              "      box-shadow: 0px 1px 3px 1px rgba(0, 0, 0, 0.15);\n",
              "      filter: drop-shadow(0px 1px 2px rgba(0, 0, 0, 0.3));\n",
              "      fill: #FFFFFF;\n",
              "    }\n",
              "  </style>\n",
              "\n",
              "      <script>\n",
              "        const buttonEl =\n",
              "          document.querySelector('#df-9591aa05-7086-4abb-8645-9d4d15403c6e button.colab-df-convert');\n",
              "        buttonEl.style.display =\n",
              "          google.colab.kernel.accessAllowed ? 'block' : 'none';\n",
              "\n",
              "        async function convertToInteractive(key) {\n",
              "          const element = document.querySelector('#df-9591aa05-7086-4abb-8645-9d4d15403c6e');\n",
              "          const dataTable =\n",
              "            await google.colab.kernel.invokeFunction('convertToInteractive',\n",
              "                                                     [key], {});\n",
              "          if (!dataTable) return;\n",
              "\n",
              "          const docLinkHtml = 'Like what you see? Visit the ' +\n",
              "            '<a target=\"_blank\" href=https://colab.research.google.com/notebooks/data_table.ipynb>data table notebook</a>'\n",
              "            + ' to learn more about interactive tables.';\n",
              "          element.innerHTML = '';\n",
              "          dataTable['output_type'] = 'display_data';\n",
              "          await google.colab.output.renderOutput(dataTable, element);\n",
              "          const docLink = document.createElement('div');\n",
              "          docLink.innerHTML = docLinkHtml;\n",
              "          element.appendChild(docLink);\n",
              "        }\n",
              "      </script>\n",
              "    </div>\n",
              "  </div>\n",
              "  "
            ],
            "text/plain": [
              "      0\n",
              "986   5\n",
              "860   3\n",
              "714   5\n",
              "834   5\n",
              "904   5\n",
              "...  ..\n",
              "1124  6\n",
              "176   7\n",
              "1182  3\n",
              "1018  8\n",
              "173   7\n",
              "\n",
              "[100 rows x 1 columns]"
            ]
          },
          "metadata": {},
          "execution_count": 57
        }
      ]
    },
    {
      "cell_type": "code",
      "source": [
        ""
      ],
      "metadata": {
        "id": "qDgQmIcGNmIe"
      },
      "execution_count": null,
      "outputs": []
    }
  ]
}